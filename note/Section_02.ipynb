{
 "cells": [
  {
   "cell_type": "markdown",
   "id": "960a6363",
   "metadata": {},
   "source": [
    "# Section 02 ノート\n",
    "\n",
    "このノートでは ch02 の加工済みデータを読み込み、簡単な確認を行います。\n"
   ]
  },
  {
   "cell_type": "markdown",
   "id": "56cfee73",
   "metadata": {},
   "source": [
    "## データ読込\n"
   ]
  },
  {
   "cell_type": "code",
   "execution_count": null,
   "id": "76f4b3ee",
   "metadata": {},
   "outputs": [],
   "source": []
  },
  {
   "cell_type": "code",
   "execution_count": 2,
   "id": "a88147f4",
   "metadata": {},
   "outputs": [
    {
     "data": {
      "text/html": [
       "<div>\n",
       "<style scoped>\n",
       "    .dataframe tbody tr th:only-of-type {\n",
       "        vertical-align: middle;\n",
       "    }\n",
       "\n",
       "    .dataframe tbody tr th {\n",
       "        vertical-align: top;\n",
       "    }\n",
       "\n",
       "    .dataframe thead th {\n",
       "        text-align: right;\n",
       "    }\n",
       "</style>\n",
       "<table border=\"1\" class=\"dataframe\">\n",
       "  <thead>\n",
       "    <tr style=\"text-align: right;\">\n",
       "      <th></th>\n",
       "      <th>data</th>\n",
       "    </tr>\n",
       "  </thead>\n",
       "  <tbody>\n",
       "    <tr>\n",
       "      <th>0</th>\n",
       "      <td>2.0</td>\n",
       "    </tr>\n",
       "    <tr>\n",
       "      <th>1</th>\n",
       "      <td>2.0</td>\n",
       "    </tr>\n",
       "    <tr>\n",
       "      <th>2</th>\n",
       "      <td>4.0</td>\n",
       "    </tr>\n",
       "    <tr>\n",
       "      <th>3</th>\n",
       "      <td>6.0</td>\n",
       "    </tr>\n",
       "    <tr>\n",
       "      <th>4</th>\n",
       "      <td>4.0</td>\n",
       "    </tr>\n",
       "  </tbody>\n",
       "</table>\n",
       "</div>"
      ],
      "text/plain": [
       "   data\n",
       "0   2.0\n",
       "1   2.0\n",
       "2   4.0\n",
       "3   6.0\n",
       "4   4.0"
      ]
     },
     "metadata": {},
     "output_type": "display_data"
    },
    {
     "data": {
      "text/html": [
       "<div>\n",
       "<style scoped>\n",
       "    .dataframe tbody tr th:only-of-type {\n",
       "        vertical-align: middle;\n",
       "    }\n",
       "\n",
       "    .dataframe tbody tr th {\n",
       "        vertical-align: top;\n",
       "    }\n",
       "\n",
       "    .dataframe thead th {\n",
       "        text-align: right;\n",
       "    }\n",
       "</style>\n",
       "<table border=\"1\" class=\"dataframe\">\n",
       "  <thead>\n",
       "    <tr style=\"text-align: right;\">\n",
       "      <th></th>\n",
       "      <th>data</th>\n",
       "    </tr>\n",
       "  </thead>\n",
       "  <tbody>\n",
       "    <tr>\n",
       "      <th>count</th>\n",
       "      <td>50.00000</td>\n",
       "    </tr>\n",
       "    <tr>\n",
       "      <th>mean</th>\n",
       "      <td>3.56000</td>\n",
       "    </tr>\n",
       "    <tr>\n",
       "      <th>std</th>\n",
       "      <td>1.72804</td>\n",
       "    </tr>\n",
       "    <tr>\n",
       "      <th>min</th>\n",
       "      <td>0.00000</td>\n",
       "    </tr>\n",
       "    <tr>\n",
       "      <th>25%</th>\n",
       "      <td>2.00000</td>\n",
       "    </tr>\n",
       "    <tr>\n",
       "      <th>50%</th>\n",
       "      <td>3.00000</td>\n",
       "    </tr>\n",
       "    <tr>\n",
       "      <th>75%</th>\n",
       "      <td>4.75000</td>\n",
       "    </tr>\n",
       "    <tr>\n",
       "      <th>max</th>\n",
       "      <td>7.00000</td>\n",
       "    </tr>\n",
       "  </tbody>\n",
       "</table>\n",
       "</div>"
      ],
      "text/plain": [
       "           data\n",
       "count  50.00000\n",
       "mean    3.56000\n",
       "std     1.72804\n",
       "min     0.00000\n",
       "25%     2.00000\n",
       "50%     3.00000\n",
       "75%     4.75000\n",
       "max     7.00000"
      ]
     },
     "metadata": {},
     "output_type": "display_data"
    }
   ],
   "source": [
    "from pathlib import Path\n",
    "import pandas as pd\n",
    "import numpy as np\n",
    "\n",
    "# プロジェクトルートからの絶対パスで指定\n",
    "DATA_CSV = Path('/Users/macmini2023/Documents/intro-statistical-modeling-data-analysis/data/02_processed/ch02/data.csv')\n",
    "\n",
    "# 読み込み\n",
    "df = pd.read_csv(DATA_CSV)\n",
    "\n",
    "# 先頭確認と基本情報\n",
    "display(df.head())\n",
    "display(df.describe(include='all'))\n"
   ]
  },
  {
   "cell_type": "code",
   "execution_count": 3,
   "id": "76944dc2",
   "metadata": {},
   "outputs": [
    {
     "data": {
      "text/plain": [
       "data\n",
       "0.0      1\n",
       "1.0      3\n",
       "2.0     11\n",
       "3.0     12\n",
       "4.0     10\n",
       "5.0      5\n",
       "6.0      4\n",
       "7.0      4\n",
       "Name: count, dtype: int64"
      ]
     },
     "execution_count": 3,
     "metadata": {},
     "output_type": "execute_result"
    }
   ],
   "source": [
    "df.value_counts().sort_index()"
   ]
  },
  {
   "cell_type": "code",
   "execution_count": 4,
   "id": "ea109b65",
   "metadata": {},
   "outputs": [
    {
     "data": {
      "text/plain": [
       "array([[<Axes: title={'center': 'data'}>]], dtype=object)"
      ]
     },
     "execution_count": 4,
     "metadata": {},
     "output_type": "execute_result"
    },
    {
     "data": {
      "image/png": "[encoded data removed]",
      "text/plain": [
       "<Figure size 640x480 with 1 Axes>"
      ]
     },
     "metadata": {},
     "output_type": "display_data"
    }
   ],
   "source": [
    "df.hist(bins=8)"
   ]
  },
  {
   "cell_type": "code",
   "execution_count": 5,
   "id": "f41ede24",
   "metadata": {},
   "outputs": [
    {
     "data": {
      "text/plain": [
       "data    2.986122\n",
       "dtype: float64"
      ]
     },
     "execution_count": 5,
     "metadata": {},
     "output_type": "execute_result"
    }
   ],
   "source": [
    "df.var()"
   ]
  },
  {
   "cell_type": "code",
   "execution_count": 6,
   "id": "7cd2c22c",
   "metadata": {},
   "outputs": [
    {
     "data": {
      "text/plain": [
       "data    3.56\n",
       "dtype: float64"
      ]
     },
     "execution_count": 6,
     "metadata": {},
     "output_type": "execute_result"
    }
   ],
   "source": [
    "df.mean()"
   ]
  },
  {
   "cell_type": "code",
   "execution_count": 7,
   "id": "1792f06b",
   "metadata": {},
   "outputs": [
    {
     "data": {
      "text/plain": [
       "data    3.0\n",
       "dtype: float64"
      ]
     },
     "execution_count": 7,
     "metadata": {},
     "output_type": "execute_result"
    }
   ],
   "source": [
    "df.median()"
   ]
  },
  {
   "cell_type": "code",
   "execution_count": 8,
   "id": "5e5af9db",
   "metadata": {},
   "outputs": [
    {
     "data": {
      "text/plain": [
       "data    1.72804\n",
       "dtype: float64"
      ]
     },
     "execution_count": 8,
     "metadata": {},
     "output_type": "execute_result"
    }
   ],
   "source": [
    "df.std()"
   ]
  },
  {
   "cell_type": "code",
   "execution_count": 9,
   "id": "57e0a774",
   "metadata": {},
   "outputs": [
    {
     "data": {
      "text/plain": [
       "data    1.72804\n",
       "dtype: float64"
      ]
     },
     "execution_count": 9,
     "metadata": {},
     "output_type": "execute_result"
    }
   ],
   "source": [
    "np.sqrt(df.var())"
   ]
  },
  {
   "cell_type": "code",
   "execution_count": 10,
   "id": "7f0fced2",
   "metadata": {},
   "outputs": [
    {
     "data": {
      "image/png": "[encoded data removed]",
      "text/plain": [
       "<Figure size 640x480 with 1 Axes>"
      ]
     },
     "metadata": {},
     "output_type": "display_data"
    }
   ],
   "source": [
    "# Poisson分布の生成（母数は観測データの平均）\n",
    "import numpy as np\n",
    "import matplotlib.pyplot as plt\n",
    "\n",
    "lam = 3.56\n",
    "rng = np.random.default_rng(42)\n",
    "samples = rng.poisson(lam, size=10000)\n",
    "\n",
    "plt.hist(df.values, bins=8, density=True, alpha=0.5, label='Observed')\n",
    "plt.hist(samples, bins=8, density=True, alpha=0.5, label='Poisson')\n",
    "plt.legend()\n",
    "plt.grid()\n",
    "\n",
    "# ポアソン分布のパラメータ推定\n",
    "\n"
   ]
  },
  {
   "cell_type": "code",
   "execution_count": 11,
   "id": "761110f5",
   "metadata": {},
   "outputs": [
    {
     "data": {
      "image/png": "[encoded data removed]",
      "text/plain": [
       "<Figure size 640x480 with 1 Axes>"
      ]
     },
     "metadata": {},
     "output_type": "display_data"
    }
   ],
   "source": [
    "# Seaborn で可視化（Poisson vs Observed）\n",
    "import seaborn as sns\n",
    "import numpy as np\n",
    "import matplotlib.pyplot as plt\n",
    "\n",
    "\n",
    "lam = 3.56\n",
    "rng = np.random.default_rng(42)\n",
    "samples = rng.poisson(lam, size=10000)\n",
    "\n",
    "# bins を両データの最大値に合わせて揃える\n",
    "max_val = int(max(np.max(samples), df['data'].max()))\n",
    "bins = list(range(0, max_val + 2))\n",
    "\n",
    "fig, ax = plt.subplots()\n",
    "sns.histplot(samples, bins=bins, stat='density', alpha=0.5, color='tab:blue', label='Poisson', ax=ax)\n",
    "sns.histplot(df['data'], bins=bins, stat='density', alpha=0.5, color='tab:orange', label='Observed', ax=ax)\n",
    "ax.set_title('Poisson vs Observed (Seaborn)')\n",
    "ax.set_xlabel('count')\n",
    "ax.set_ylabel('density')\n",
    "ax.legend()\n",
    "sns.despine()\n",
    "plt.show()\n",
    "\n"
   ]
  },
  {
   "cell_type": "code",
   "execution_count": 12,
   "id": "d3e693df",
   "metadata": {},
   "outputs": [
    {
     "data": {
      "image/png": "[encoded data removed]",
      "text/plain": [
       "<Figure size 640x480 with 1 Axes>"
      ]
     },
     "metadata": {},
     "output_type": "display_data"
    }
   ],
   "source": [
    "# Poisson分布の生成（母数は観測データの平均）\n",
    "import numpy as np\n",
    "import matplotlib.pyplot as plt\n",
    "\n",
    "lam = 3.56\n",
    "for lam in [3.5, 7.7, 15.1, 30]:\n",
    "    rng = np.random.default_rng(42)\n",
    "    samples = rng.poisson(lam, size=10000)\n",
    "\n",
    "    plt.hist(samples, bins=30, density=True, alpha=0.5, label=f'lambda={lam}')\n",
    "    plt.legend()\n",
    "plt.grid()\n",
    "\n",
    "# ポアソン分布のパラメータ推定\n",
    "\n"
   ]
  },
  {
   "cell_type": "code",
   "execution_count": 13,
   "id": "90ab0ae5",
   "metadata": {},
   "outputs": [
    {
     "data": {
      "image/png": "[encoded data removed]",
      "text/plain": [
       "<Figure size 640x480 with 1 Axes>"
      ]
     },
     "metadata": {},
     "output_type": "display_data"
    }
   ],
   "source": [
    "# Poisson分布の生成（母数は観測データの平均）\n",
    "import numpy as np\n",
    "import matplotlib.pyplot as plt\n",
    "\n",
    "lam = 3.56\n",
    "for seed in [42, 100, 200, 300]:\n",
    "    rng = np.random.default_rng(seed)\n",
    "    samples = rng.poisson(lam, size=10000)\n",
    "\n",
    "    plt.hist(samples, bins=30, density=True, alpha=0.5, label=f'lambda={lam}')\n",
    "    plt.legend()\n",
    "plt.grid()\n",
    "\n",
    "# ポアソン分布のパラメータ推定\n",
    "\n"
   ]
  },
  {
   "cell_type": "code",
   "execution_count": null,
   "id": "ae016988",
   "metadata": {},
   "outputs": [
    {
     "name": "stdout",
     "output_type": "stream",
     "text": [
      "5.8541807138235296e-43\n"
     ]
    }
   ],
   "source": [
    "# 最尤推定\n",
    "def factorial(n):\n",
    "    n = int(n)\n",
    "    if n < 0:\n",
    "        raise ValueError(\"n must be non-negative\")\n",
    "    if n in (0, 1):\n",
    "        return 1\n",
    "    result = 1\n",
    "    for k in range(2, n + 1):\n",
    "        result *= k\n",
    "    return result\n",
    "\n",
    "def poisson(y, lam):\n",
    "    return (lam ** y) * np.exp(-lam) / factorial(y)\n",
    "\n",
    "\n",
    "def likelihood(y, lam):\n",
    "    p_y_lam = []\n",
    "    for i in range(len(y)):\n",
    "        p_y_lam.append(poisson(y[i], lam))\n",
    "    p_y_lam = np.array(p_y_lam)\n",
    "    return np.prod(p_y_lam)\n",
    "\n",
    "y = df[\"data\"].values.astype(int)\n",
    "L = likelihood(y, 3.56)\n",
    "print(L)\n"
   ]
  },
  {
   "cell_type": "code",
   "execution_count": 47,
   "id": "da9da4fd",
   "metadata": {},
   "outputs": [
    {
     "data": {
      "image/png": "[encoded data removed]",
      "text/plain": [
       "<Figure size 640x480 with 1 Axes>"
      ]
     },
     "metadata": {},
     "output_type": "display_data"
    }
   ],
   "source": [
    "# lamdaを走査してLikelihoodを計算\n",
    "lam_grid = np.linspace(0, 10, 1000)\n",
    "L_vals = [likelihood(y, lam) for lam in lam_grid]\n",
    "\n",
    "# 可視化\n",
    "plt.plot(lam_grid, L_vals)\n",
    "plt.show()"
   ]
  },
  {
   "cell_type": "code",
   "execution_count": 52,
   "id": "119286d9",
   "metadata": {},
   "outputs": [
    {
     "data": {
      "text/plain": [
       "np.float64(3.5635635635635636)"
      ]
     },
     "execution_count": 52,
     "metadata": {},
     "output_type": "execute_result"
    }
   ],
   "source": [
    "# 尤度最大の時のlamda\n",
    "lam_dot = lam_grid[np.argmax(L_vals)]\n",
    "lam_dot"
   ]
  },
  {
   "cell_type": "code",
   "execution_count": 56,
   "id": "a0107712",
   "metadata": {},
   "outputs": [
    {
     "data": {
      "image/png": "[encoded data removed]",
      "text/plain": [
       "<Figure size 640x480 with 1 Axes>"
      ]
     },
     "metadata": {},
     "output_type": "display_data"
    }
   ],
   "source": [
    "# Poisson分布の生成（母数は観測データの平均）\n",
    "import numpy as np\n",
    "import matplotlib.pyplot as plt\n",
    "\n",
    "lam = lam_dot\n",
    "rng = np.random.default_rng(42)\n",
    "samples = rng.poisson(lam, size=10000)\n",
    "\n",
    "plt.hist(samples, bins=30, density=True, alpha=0.5, label=f'lambda={lam}')\n",
    "plt.hist(df[\"data\"], bins=30, density=True, alpha=0.5, label=f'obs')\n",
    "plt.legend()\n",
    "plt.grid()\n",
    "\n",
    "# ポアソン分布のパラメータ推定\n",
    "\n"
   ]
  },
  {
   "cell_type": "code",
   "execution_count": 58,
   "id": "a0d03124",
   "metadata": {},
   "outputs": [
    {
     "data": {
      "text/html": [
       "<div>\n",
       "<style scoped>\n",
       "    .dataframe tbody tr th:only-of-type {\n",
       "        vertical-align: middle;\n",
       "    }\n",
       "\n",
       "    .dataframe tbody tr th {\n",
       "        vertical-align: top;\n",
       "    }\n",
       "\n",
       "    .dataframe thead th {\n",
       "        text-align: right;\n",
       "    }\n",
       "</style>\n",
       "<table border=\"1\" class=\"dataframe\">\n",
       "  <thead>\n",
       "    <tr style=\"text-align: right;\">\n",
       "      <th></th>\n",
       "      <th>0</th>\n",
       "    </tr>\n",
       "  </thead>\n",
       "  <tbody>\n",
       "    <tr>\n",
       "      <th>count</th>\n",
       "      <td>10000.000000</td>\n",
       "    </tr>\n",
       "    <tr>\n",
       "      <th>mean</th>\n",
       "      <td>3.573100</td>\n",
       "    </tr>\n",
       "    <tr>\n",
       "      <th>std</th>\n",
       "      <td>1.888601</td>\n",
       "    </tr>\n",
       "    <tr>\n",
       "      <th>min</th>\n",
       "      <td>0.000000</td>\n",
       "    </tr>\n",
       "    <tr>\n",
       "      <th>25%</th>\n",
       "      <td>2.000000</td>\n",
       "    </tr>\n",
       "    <tr>\n",
       "      <th>50%</th>\n",
       "      <td>3.000000</td>\n",
       "    </tr>\n",
       "    <tr>\n",
       "      <th>75%</th>\n",
       "      <td>5.000000</td>\n",
       "    </tr>\n",
       "    <tr>\n",
       "      <th>max</th>\n",
       "      <td>13.000000</td>\n",
       "    </tr>\n",
       "  </tbody>\n",
       "</table>\n",
       "</div>"
      ],
      "text/plain": [
       "                  0\n",
       "count  10000.000000\n",
       "mean       3.573100\n",
       "std        1.888601\n",
       "min        0.000000\n",
       "25%        2.000000\n",
       "50%        3.000000\n",
       "75%        5.000000\n",
       "max       13.000000"
      ]
     },
     "execution_count": 58,
     "metadata": {},
     "output_type": "execute_result"
    }
   ],
   "source": [
    "pd.DataFrame(samples).describe()"
   ]
  },
  {
   "cell_type": "code",
   "execution_count": 59,
   "id": "28e28cf6",
   "metadata": {},
   "outputs": [
    {
     "data": {
      "text/plain": [
       "0    3.566813\n",
       "dtype: float64"
      ]
     },
     "execution_count": 59,
     "metadata": {},
     "output_type": "execute_result"
    }
   ],
   "source": [
    "pd.DataFrame(samples).var()"
   ]
  },
  {
   "cell_type": "code",
   "execution_count": null,
   "id": "619587c4",
   "metadata": {},
   "outputs": [
    {
     "data": {
      "text/plain": [
       "<Axes: >"
      ]
     },
     "execution_count": 74,
     "metadata": {},
     "output_type": "execute_result"
    },
    {
     "data": {
      "image/png": "[encoded data removed]",
      "text/plain": [
       "<Figure size 640x480 with 1 Axes>"
      ]
     },
     "metadata": {},
     "output_type": "display_data"
    }
   ],
   "source": [
    "# 最大尤度推定時のlamdaの標準誤差\n",
    "import numpy as np\n",
    "import matplotlib.pyplot as plt\n",
    "\n",
    "lam = 3.5\n",
    "\n",
    "\n",
    "buf_lam_dot = []\n",
    "for i in range(3009):\n",
    "    rng = np.random.default_rng(i)\n",
    "    y_smpl = rng.poisson(lam, size=100)\n",
    "\n",
    "    # 最尤推定\n",
    "    # lamdaを走査してLikelihoodを計算\n",
    "    lam_grid = np.linspace(2, 5, 100)\n",
    "    L_vals = [likelihood(y_smpl, lam) for lam in lam_grid]\n",
    "    # 尤度最大の時のlamda\n",
    "    lam_dot = lam_grid[np.argmax(L_vals)]\n",
    "    lam_dot\n",
    "    buf_lam_dot.append(lam_dot)\n",
    "\n",
    "sr_lam = pd.Series(buf_lam_dot)\n",
    "sr_lam.hist()\n"
   ]
  },
  {
   "cell_type": "code",
   "execution_count": null,
   "id": "5d482043",
   "metadata": {},
   "outputs": [],
   "source": []
  }
 ],
 "metadata": {
  "kernelspec": {
   "display_name": ".venv",
   "language": "python",
   "name": "python3"
  },
  "language_info": {
   "codemirror_mode": {
    "name": "ipython",
    "version": 3
   },
   "file_extension": ".py",
   "mimetype": "text/x-python",
   "name": "python",
   "nbconvert_exporter": "python",
   "pygments_lexer": "ipython3",
   "version": "3.11.13"
  }
 },
 "nbformat": 4,
 "nbformat_minor": 5
}
