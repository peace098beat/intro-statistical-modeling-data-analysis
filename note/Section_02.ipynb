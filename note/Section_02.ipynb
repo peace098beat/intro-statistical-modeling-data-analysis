{
 "cells": [
  {
   "cell_type": "markdown",
   "id": "960a6363",
   "metadata": {},
   "source": [
    "# 第二章：サンプルデータを使った実践分析\n",
    "\n",
    "このノートでは『データ解析のための統計モデリング入門』第二章のサンプルデータを用いて、Pythonで実際に手を動かしながらデータ解析を行います。\n",
    "\n",
    "---\n",
    "\n",
    "## 1. 必要なライブラリのインポート\n",
    "Pythonでデータ解析を行うために必要なライブラリをインポートします。"
   ]
  }
 ],
 "metadata": {
  "language_info": {
   "name": "python"
  }
 },
 "nbformat": 4,
 "nbformat_minor": 5
}
